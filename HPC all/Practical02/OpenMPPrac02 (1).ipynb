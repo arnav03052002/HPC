{
  "nbformat": 4,
  "nbformat_minor": 0,
  "metadata": {
    "colab": {
      "provenance": []
    },
    "kernelspec": {
      "name": "python3",
      "display_name": "Python 3"
    },
    "language_info": {
      "name": "python"
    }
  },
  "cells": [
    {
      "cell_type": "code",
      "execution_count": 1,
      "metadata": {
        "colab": {
          "base_uri": "https://localhost:8080/"
        },
        "id": "BG-HtLKFbGJX",
        "outputId": "384ae2a6-bb78-4321-b268-78244525d89b"
      },
      "outputs": [
        {
          "output_type": "stream",
          "name": "stdout",
          "text": [
            "Writing Prac02a.cpp\n"
          ]
        }
      ],
      "source": [
        " %%writefile Prac02a.cpp\n",
        "#include <stdio.h>\n",
        "#include <omp.h>\n",
        "#include <time.h>\n",
        "\n",
        "void bubbleSort(int arr[], int n) {\n",
        "    int i, j;\n",
        "    #pragma omp parallel for private(i, j) shared(arr)\n",
        "    for (i = 0; i < n-1; i++) {\n",
        "        // Last i elements are already in place, so only iterate till n-i-1\n",
        "        for (j = 0; j < n-i-1; j++) {\n",
        "            // Swap if the element found is greater than the next element\n",
        "            if (arr[j] > arr[j+1]) {\n",
        "                int temp = arr[j];\n",
        "                arr[j] = arr[j+1];\n",
        "                arr[j+1] = temp;\n",
        "            }\n",
        "        }\n",
        "    }\n",
        "}\n",
        "\n",
        "int main() {\n",
        "    int n;\n",
        "    printf(\"Enter the number of elements: \");\n",
        "    scanf(\"%d\", &n);\n",
        "\n",
        "    int arr[n];\n",
        "    printf(\"Enter the elements: \");\n",
        "    for (int i = 0; i < n; i++) {\n",
        "        scanf(\"%d\", &arr[i]);\n",
        "    }\n",
        "\n",
        "    printf(\"Unsorted array: \\n\");\n",
        "    for (int i = 0; i < n; i++) {\n",
        "        printf(\"%d \", arr[i]);\n",
        "    }\n",
        "    printf(\"\\n\");\n",
        "\n",
        "    double start_time = omp_get_wtime();\n",
        "    #pragma omp parallel\n",
        "    {\n",
        "        bubbleSort(arr, n);\n",
        "    }\n",
        "    double end_time = omp_get_wtime();\n",
        "\n",
        "    printf(\"Sorted array: \\n\");\n",
        "    for (int i = 0; i < n; i++) {\n",
        "        printf(\"%d \", arr[i]);\n",
        "    }\n",
        "    printf(\"\\n\");\n",
        "\n",
        "    printf(\"Total time taken by parallel section: %f seconds\\n\", end_time - start_time);\n",
        "    printf(\"Number of threads used: %d\\n\", omp_get_max_threads());\n",
        "\n",
        "    return 0;\n",
        "}\n"
      ]
    },
    {
      "cell_type": "markdown",
      "source": [],
      "metadata": {
        "id": "cjj7JzLdeAIO"
      }
    },
    {
      "cell_type": "code",
      "source": [],
      "metadata": {
        "id": "ozGSo6DJeCLH"
      },
      "execution_count": 1,
      "outputs": []
    },
    {
      "cell_type": "code",
      "source": [
        "!g++ -fopenmp Prac02a.cpp -o Myexe"
      ],
      "metadata": {
        "id": "TilYkAqwbQEp"
      },
      "execution_count": 2,
      "outputs": []
    },
    {
      "cell_type": "code",
      "source": [
        "!./Myexe\n"
      ],
      "metadata": {
        "colab": {
          "base_uri": "https://localhost:8080/"
        },
        "id": "JXYMA0EtbUOB",
        "outputId": "f4b97fd4-8b71-4754-edc3-ac51db6b5c0d"
      },
      "execution_count": 3,
      "outputs": [
        {
          "output_type": "stream",
          "name": "stdout",
          "text": [
            "Enter the number of elements: 5\n",
            "Enter the elements: 10\n",
            "27\n",
            "90\n",
            "0\n",
            "22\n",
            "Unsorted array: \n",
            "10 27 90 0 22 \n",
            "Sorted array: \n",
            "0 10 22 27 90 \n",
            "Total time taken by parallel section: 0.000240 seconds\n",
            "Number of threads used: 2\n"
          ]
        }
      ]
    },
    {
      "cell_type": "code",
      "source": [
        " %%writefile Prac02b.cpp\n",
        "#include <stdio.h>\n",
        "#include <stdlib.h>\n",
        "#include <omp.h>\n",
        "#include <time.h>\n",
        "\n",
        "void merge(int arr[], int l, int m, int r) {\n",
        "    int i, j, k;\n",
        "    int n1 = m - l + 1;\n",
        "    int n2 = r - m;\n",
        "\n",
        "    // Create temporary arrays\n",
        "    int L[n1], R[n2];\n",
        "\n",
        "    // Copy data to temporary arrays L[] and R[]\n",
        "    for (i = 0; i < n1; i++)\n",
        "        L[i] = arr[l + i];\n",
        "    for (j = 0; j < n2; j++)\n",
        "        R[j] = arr[m + 1 + j];\n",
        "\n",
        "    // Merge the temporary arrays back into arr[l..r]\n",
        "    i = 0; // Initial index of first subarray\n",
        "    j = 0; // Initial index of second subarray\n",
        "    k = l; // Initial index of merged subarray\n",
        "    while (i < n1 && j < n2) {\n",
        "        if (L[i] <= R[j]) {\n",
        "            arr[k] = L[i];\n",
        "            i++;\n",
        "        } else {\n",
        "            arr[k] = R[j];\n",
        "            j++;\n",
        "        }\n",
        "        k++;\n",
        "    }\n",
        "\n",
        "    // Copy the remaining elements of L[], if any\n",
        "    while (i < n1) {\n",
        "        arr[k] = L[i];\n",
        "        i++;\n",
        "        k++;\n",
        "    }\n",
        "\n",
        "    // Copy the remaining elements of R[], if any\n",
        "    while (j < n2) {\n",
        "        arr[k] = R[j];\n",
        "        j++;\n",
        "        k++;\n",
        "    }\n",
        "}\n",
        "\n",
        "void mergeSort(int arr[], int l, int r) {\n",
        "    if (l < r) {\n",
        "        // Same as (l+r)/2, but avoids overflow for large l and r\n",
        "        int m = l + (r - l) / 2;\n",
        "\n",
        "        // Sort first and second halves in parallel\n",
        "        #pragma omp parallel sections\n",
        "        {\n",
        "            #pragma omp section\n",
        "            {\n",
        "                mergeSort(arr, l, m);\n",
        "            }\n",
        "            #pragma omp section\n",
        "            {\n",
        "                mergeSort(arr, m + 1, r);\n",
        "            }\n",
        "        }\n",
        "\n",
        "        merge(arr, l, m, r);\n",
        "    }\n",
        "}\n",
        "\n",
        "int main() {\n",
        "    int n;\n",
        "    printf(\"Enter the number of elements: \");\n",
        "    scanf(\"%d\", &n);\n",
        "\n",
        "    int arr[n];\n",
        "    printf(\"Enter the elements: \");\n",
        "    for (int i = 0; i < n; i++) {\n",
        "        scanf(\"%d\", &arr[i]);\n",
        "    }\n",
        "\n",
        "    printf(\"Unsorted array: \\n\");\n",
        "    for (int i = 0; i < n; i++) {\n",
        "        printf(\"%d \", arr[i]);\n",
        "    }\n",
        "    printf(\"\\n\");\n",
        "\n",
        "    double start_time = omp_get_wtime();\n",
        "    // Perform merge sort\n",
        "    #pragma omp parallel\n",
        "    {\n",
        "        #pragma omp single\n",
        "        mergeSort(arr, 0, n - 1);\n",
        "    }\n",
        "    double end_time = omp_get_wtime();\n",
        "\n",
        "    printf(\"Sorted array: \\n\");\n",
        "    for (int i = 0; i < n; i++) {\n",
        "        printf(\"%d \", arr[i]);\n",
        "    }\n",
        "    printf(\"\\n\");\n",
        "\n",
        "    printf(\"Time taken: %f seconds\\n\", end_time - start_time);\n",
        "    printf(\"Number of threads used: %d\\n\", omp_get_max_threads());\n",
        "\n",
        "    return 0;\n",
        "}\n"
      ],
      "metadata": {
        "colab": {
          "base_uri": "https://localhost:8080/"
        },
        "id": "EluIca-HbVCd",
        "outputId": "7e82a068-5ada-4738-fd2e-d59810a0bc85"
      },
      "execution_count": 4,
      "outputs": [
        {
          "output_type": "stream",
          "name": "stdout",
          "text": [
            "Writing Prac02b.cpp\n"
          ]
        }
      ]
    },
    {
      "cell_type": "code",
      "source": [
        "!g++ -fopenmp Prac02b.cpp -o Myexe"
      ],
      "metadata": {
        "id": "0uA0wgBxdtQ6"
      },
      "execution_count": 5,
      "outputs": []
    },
    {
      "cell_type": "code",
      "source": [
        "!./Myexe\n"
      ],
      "metadata": {
        "colab": {
          "base_uri": "https://localhost:8080/"
        },
        "id": "gNgzC5DHd2Xe",
        "outputId": "afd3d9d7-5f75-4d1f-f05e-f6d5038eec62"
      },
      "execution_count": 6,
      "outputs": [
        {
          "output_type": "stream",
          "name": "stdout",
          "text": [
            "Enter the number of elements: 5\n",
            "Enter the elements: 2 \n",
            "7\n",
            "88\n",
            "55\n",
            "21\n",
            "Unsorted array: \n",
            "2 7 88 55 21 \n",
            "Sorted array: \n",
            "2 7 21 55 88 \n",
            "Time taken: 0.000138 seconds\n",
            "Number of threads used: 2\n"
          ]
        }
      ]
    },
    {
      "cell_type": "code",
      "source": [
        "# Let's analyze both parallel versions of the code individually and compare them to their sequential counterparts.\n",
        "\n",
        "# ### Prac02a.cpp - Parallel Bubble Sort\n",
        "\n",
        "# - **Parallelism**: In the parallel version, the bubble sort algorithm is executed concurrently by multiple threads using OpenMP parallelization.\n",
        "# - **Performance Improvement**: The parallel version can potentially exhibit better performance compared to the sequential version for large datasets and systems with multiple cores. This is because parallel execution allows multiple threads to simultaneously work on different portions of the array, potentially reducing the overall execution time.\n",
        "# - **Time Complexity**: Bubble sort has a time complexity of O(n^2) in both its sequential and parallel versions. Parallelizing bubble sort does not change its time complexity; however, it can improve its performance by distributing the workload across multiple threads.\n",
        "\n",
        "# ### Prac02b.cpp - Parallel Merge Sort\n",
        "\n",
        "# - **Parallelism**: In the parallel version, the merge sort algorithm is executed concurrently by multiple threads using OpenMP parallelization.\n",
        "# - **Performance Improvement**: The parallel version can exhibit significantly better performance compared to the sequential version, especially for large datasets. Merge sort has a time complexity of O(n log n), which makes it more efficient than bubble sort. Parallelizing merge sort allows multiple threads to work on sorting different portions of the array simultaneously, resulting in faster sorting times.\n",
        "# - **Time Complexity**: Merge sort has a time complexity of O(n log n), both in its sequential and parallel versions. Parallelizing merge sort does not change its time complexity; however, it can significantly improve its performance by leveraging multiple threads to divide and conquer the sorting process efficiently.\n",
        "\n",
        "# In summary, the parallel versions of both bubble sort and merge sort can potentially exhibit better performance compared to their sequential counterparts, especially for large datasets. While parallelization does not change the time complexities of the algorithms themselves, it can distribute the workload across multiple threads, leading to faster execution times, particularly for algorithms like merge sort with more efficient time complexities."
      ],
      "metadata": {
        "id": "-pXZa2mXd5Fw"
      },
      "execution_count": 7,
      "outputs": []
    },
    {
      "cell_type": "code",
      "source": [],
      "metadata": {
        "id": "TNBWusSXfROn"
      },
      "execution_count": 7,
      "outputs": []
    }
  ]
}