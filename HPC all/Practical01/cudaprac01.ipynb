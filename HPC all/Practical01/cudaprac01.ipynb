{
  "nbformat": 4,
  "nbformat_minor": 0,
  "metadata": {
    "colab": {
      "provenance": [],
      "gpuType": "T4"
    },
    "kernelspec": {
      "name": "python3",
      "display_name": "Python 3"
    },
    "language_info": {
      "name": "python"
    },
    "accelerator": "GPU"
  },
  "cells": [
    {
      "cell_type": "code",
      "execution_count": 1,
      "metadata": {
        "colab": {
          "base_uri": "https://localhost:8080/"
        },
        "id": "DR1mPxeTvjnG",
        "outputId": "8161db30-63f9-48d0-a75d-4aaf2f5e81ac"
      },
      "outputs": [
        {
          "output_type": "stream",
          "name": "stdout",
          "text": [
            "nvcc: NVIDIA (R) Cuda compiler driver\n",
            "Copyright (c) 2005-2023 NVIDIA Corporation\n",
            "Built on Tue_Aug_15_22:02:13_PDT_2023\n",
            "Cuda compilation tools, release 12.2, V12.2.140\n",
            "Build cuda_12.2.r12.2/compiler.33191640_0\n"
          ]
        }
      ],
      "source": [
        "!nvcc --version"
      ]
    },
    {
      "cell_type": "code",
      "source": [
        "!pip install git+https://github.com/afnan47/cuda.git"
      ],
      "metadata": {
        "colab": {
          "base_uri": "https://localhost:8080/"
        },
        "id": "q10vpDFZv9YZ",
        "outputId": "09b64830-12ba-4a92-b701-9f0de02a838c"
      },
      "execution_count": 2,
      "outputs": [
        {
          "output_type": "stream",
          "name": "stdout",
          "text": [
            "Collecting git+https://github.com/afnan47/cuda.git\n",
            "  Cloning https://github.com/afnan47/cuda.git to /tmp/pip-req-build-k3w9358e\n",
            "  Running command git clone --filter=blob:none --quiet https://github.com/afnan47/cuda.git /tmp/pip-req-build-k3w9358e\n",
            "  Resolved https://github.com/afnan47/cuda.git to commit aac710a35f52bb78ab34d2e52517237941399eff\n",
            "  Preparing metadata (setup.py) ... \u001b[?25l\u001b[?25hdone\n",
            "Building wheels for collected packages: NVCCPlugin\n",
            "  Building wheel for NVCCPlugin (setup.py) ... \u001b[?25l\u001b[?25hdone\n",
            "  Created wheel for NVCCPlugin: filename=NVCCPlugin-0.0.2-py3-none-any.whl size=4289 sha256=bfc6834705c1b2b8867e78511f8b7f2ad48aba45668d3d34d1608d9e02ff5a35\n",
            "  Stored in directory: /tmp/pip-ephem-wheel-cache-bb5fip4h/wheels/aa/f3/44/e10c1d226ec561d971fcd4b0463f6bff08602afa928a3e7bc7\n",
            "Successfully built NVCCPlugin\n",
            "Installing collected packages: NVCCPlugin\n",
            "Successfully installed NVCCPlugin-0.0.2\n"
          ]
        }
      ]
    },
    {
      "cell_type": "code",
      "source": [
        "%load_ext nvcc_plugin"
      ],
      "metadata": {
        "colab": {
          "base_uri": "https://localhost:8080/"
        },
        "id": "imFwNnCqwELF",
        "outputId": "f8394018-baa6-44ac-e236-91167c1741e4"
      },
      "execution_count": 3,
      "outputs": [
        {
          "output_type": "stream",
          "name": "stdout",
          "text": [
            "created output directory at /content/src\n",
            "Out bin /content/result.out\n"
          ]
        }
      ]
    },
    {
      "cell_type": "code",
      "source": [
        "\n",
        "%%writefile bfs.cu\n",
        "\n",
        "#include <iostream>\n",
        "#include <queue>\n",
        "#include <vector>\n",
        "#include <omp.h>\n",
        "\n",
        "using namespace std;\n",
        "\n",
        "int main()\n",
        "{\n",
        "    int num_vertices, num_edges, source;\n",
        "    cout << \"Enter number of vertices: \";\n",
        "    cin >> num_vertices;\n",
        "    cout << \"Enter number of edges: \";\n",
        "    cin >> num_edges;\n",
        "    cout << \"Enter source node: \";\n",
        "    cin >> source;\n",
        "\n",
        "    // Input validation\n",
        "    if (source < 1 || source > num_vertices)\n",
        "    {\n",
        "        cout << \"Invalid source node!\" << endl;\n",
        "        return 1;\n",
        "    }\n",
        "\n",
        "    vector<vector<int>> adj_list(num_vertices + 1);\n",
        "    cout << \"Enter the edges:\" << endl;\n",
        "    for (int i = 0; i < num_edges; i++)\n",
        "    {\n",
        "        int u, v;\n",
        "        cin >> u >> v;\n",
        "        // Input validation for edges\n",
        "        if (u < 1 || u > num_vertices || v < 1 || v > num_vertices)\n",
        "        {\n",
        "            cout << \"Invalid edge: \" << u << \" \" << v << endl;\n",
        "            return 1;\n",
        "        }\n",
        "        adj_list[u].push_back(v);\n",
        "        adj_list[v].push_back(u);\n",
        "    }\n",
        "\n",
        "    queue<int> q;\n",
        "    vector visited(num_vertices + 1, false);\n",
        "    q.push(source);\n",
        "    visited[source] = true;\n",
        "\n",
        "    // CUDA event creation for measuring execution time\n",
        "    cudaEvent_t start, stop;\n",
        "    cudaEventCreate(&start);\n",
        "    cudaEventCreate(&stop);\n",
        "    cudaEventRecord(start);\n",
        "\n",
        "    while (!q.empty())\n",
        "    {\n",
        "        int curr_vertex = q.front();\n",
        "        q.pop();\n",
        "        cout << curr_vertex << \" \";\n",
        "\n",
        "        // Sequential loop for neighbors\n",
        "        for (int i = 0; i < adj_list[curr_vertex].size(); i++)\n",
        "        {\n",
        "            int neighbour = adj_list[curr_vertex][i];\n",
        "            if (!visited[neighbour])\n",
        "            {\n",
        "                visited[neighbour] = true;\n",
        "                q.push(neighbour);\n",
        "            }\n",
        "        }\n",
        "    }\n",
        "\n",
        "    // Record and calculate execution time\n",
        "    cudaEventRecord(stop);\n",
        "    cudaEventSynchronize(stop);\n",
        "    float milliseconds = 0;\n",
        "    cudaEventElapsedTime(&milliseconds, start, stop);\n",
        "    cout << endl << \"Execution Time: \" << milliseconds << \" ms\" << endl;\n",
        "\n",
        "    // Cleanup\n",
        "    cudaEventDestroy(start);\n",
        "    cudaEventDestroy(stop);\n",
        "\n",
        "    return 0;\n",
        "}"
      ],
      "metadata": {
        "colab": {
          "base_uri": "https://localhost:8080/"
        },
        "id": "1c219AdYv1rN",
        "outputId": "224a2044-fe14-46db-ab9c-c3dbf8c1c436"
      },
      "execution_count": 4,
      "outputs": [
        {
          "output_type": "stream",
          "name": "stdout",
          "text": [
            "Writing bfs.cu\n"
          ]
        }
      ]
    },
    {
      "cell_type": "code",
      "source": [
        "!nvcc bfs.cu -o bfs"
      ],
      "metadata": {
        "id": "tnxOOYNq0uPG"
      },
      "execution_count": 5,
      "outputs": []
    },
    {
      "cell_type": "markdown",
      "source": [
        "Dummy input: <br>\n",
        "Enter number of vertices: 5<br>\n",
        "Enter number of edges: 4<br>\n",
        "Enter source node: 1<br>\n",
        "Enter the edges:<br>\n",
        "1 2<br>\n",
        "1 3<br>\n",
        "2 4<br>\n",
        "3 5"
      ],
      "metadata": {
        "id": "S5Bk36yA0987"
      }
    },
    {
      "cell_type": "code",
      "source": [
        "!./bfs\n"
      ],
      "metadata": {
        "colab": {
          "base_uri": "https://localhost:8080/"
        },
        "id": "4JT_GYCv0y9P",
        "outputId": "b7cda451-4f58-4eff-be1e-cfc326cb7d15"
      },
      "execution_count": 11,
      "outputs": [
        {
          "output_type": "stream",
          "name": "stdout",
          "text": [
            "Enter number of vertices: ^C\n"
          ]
        }
      ]
    },
    {
      "cell_type": "code",
      "source": [
        "%%writefile dfs.cu\n",
        "\n",
        "#include <iostream>\n",
        "#include <stack>\n",
        "#include <vector>\n",
        "#include <cuda_runtime.h>\n",
        "\n",
        "using namespace std;\n",
        "\n",
        "__global__ void dfs_kernel(int *adj_list, int *visited, int num_vertices, int source) {\n",
        "    int thread_id = threadIdx.x + blockIdx.x * blockDim.x;\n",
        "\n",
        "    if (thread_id == 0) {\n",
        "        int stack[1024]; // Assuming maximum stack size of 1024\n",
        "        int top = -1;\n",
        "\n",
        "        stack[++top] = source;\n",
        "        visited[source] = 1;\n",
        "\n",
        "        while (top >= 0) {\n",
        "            int curr_vertex = stack[top--];\n",
        "            printf(\"%d \", curr_vertex);\n",
        "\n",
        "            for (int i = 0; i < num_vertices; ++i) {\n",
        "                int neighbour = adj_list[curr_vertex * num_vertices + i];\n",
        "                if (neighbour && !visited[i]) {\n",
        "                    visited[i] = 1;\n",
        "                    stack[++top] = i;\n",
        "                }\n",
        "            }\n",
        "        }\n",
        "    }\n",
        "}\n",
        "\n",
        "\n",
        "\n",
        "int main() {\n",
        "    int num_vertices, num_edges, source;\n",
        "    cout << \"Enter number of vertices: \";\n",
        "    cin >> num_vertices;\n",
        "    cout << \"Enter number of edges: \";\n",
        "    cin >> num_edges;\n",
        "    cout << \"Enter source node: \";\n",
        "    cin >> source;\n",
        "\n",
        "    // Input validation\n",
        "    if (source < 0 || source >= num_vertices) {\n",
        "        cout << \"Invalid source node!\" << endl;\n",
        "        return 1;\n",
        "    }\n",
        "\n",
        "    vector adj_list(num_vertices * num_vertices, 0);\n",
        "    cout << \"Enter the edges:\" << endl;\n",
        "    for (int i = 0; i < num_edges; i++) {\n",
        "        int u, v;\n",
        "        cin >> u >> v;\n",
        "        // Input validation for edges\n",
        "        if (u < 0 || u >= num_vertices || v < 0 || v >= num_vertices) {\n",
        "            cout << \"Invalid edge: \" << u << \" \" << v << endl;\n",
        "            return 1;\n",
        "        }\n",
        "        adj_list[u * num_vertices + v] = 1;\n",
        "        adj_list[v * num_vertices + u] = 1;\n",
        "    }\n",
        "\n",
        "    int *d_adj_list, *d_visited;\n",
        "    cudaMalloc((void **)&d_adj_list, num_vertices * num_vertices * sizeof(int));\n",
        "    cudaMalloc((void **)&d_visited, num_vertices * sizeof(int));\n",
        "\n",
        "    cudaMemcpy(d_adj_list, &adj_list[0], num_vertices * num_vertices * sizeof(int), cudaMemcpyHostToDevice);\n",
        "\n",
        "    int *visited = new int[num_vertices];\n",
        "    for (int i = 0; i < num_vertices; i++) {\n",
        "        visited[i] = 0;\n",
        "    }\n",
        "\n",
        "    cudaMemcpy(d_visited, visited, num_vertices * sizeof(int), cudaMemcpyHostToDevice);\n",
        "\n",
        "    // CUDA event creation for measuring execution time\n",
        "    cudaEvent_t start, stop;\n",
        "    cudaEventCreate(&start);\n",
        "    cudaEventCreate(&stop);\n",
        "    cudaEventRecord(start);\n",
        "\n",
        "    // Launch DFS kernel\n",
        "    dfs_kernel<<<1, 1>>>(d_adj_list, d_visited, num_vertices, source);\n",
        "\n",
        "    // Record and calculate execution time\n",
        "    cudaEventRecord(stop);\n",
        "    cudaEventSynchronize(stop);\n",
        "    float milliseconds = 0;\n",
        "    cudaEventElapsedTime(&milliseconds, start, stop);\n",
        "    cout << endl << \"Execution Time: \" << milliseconds << \" ms\" << endl;\n",
        "\n",
        "    // Cleanup\n",
        "    cudaEventDestroy(start);\n",
        "    cudaEventDestroy(stop);\n",
        "    cudaFree(d_adj_list);\n",
        "    cudaFree(d_visited);\n",
        "    delete[] visited;\n",
        "\n",
        "    return 0;\n",
        "}"
      ],
      "metadata": {
        "colab": {
          "base_uri": "https://localhost:8080/"
        },
        "id": "kswtKOBUNCZv",
        "outputId": "b4b6c171-d9f9-4c08-cbb1-6f9d7c94697d"
      },
      "execution_count": 13,
      "outputs": [
        {
          "output_type": "stream",
          "name": "stdout",
          "text": [
            "Overwriting dfs.cu\n"
          ]
        }
      ]
    },
    {
      "cell_type": "code",
      "source": [
        "!nvcc dfs.cu -o dfs"
      ],
      "metadata": {
        "id": "Gka3s1rZNFCf"
      },
      "execution_count": 14,
      "outputs": []
    },
    {
      "cell_type": "code",
      "source": [
        "!./dfs"
      ],
      "metadata": {
        "colab": {
          "base_uri": "https://localhost:8080/"
        },
        "id": "blA9QiN_NILF",
        "outputId": "f6970638-824c-43eb-960e-68a909f597fd"
      },
      "execution_count": 17,
      "outputs": [
        {
          "output_type": "stream",
          "name": "stdout",
          "text": [
            "Enter number of vertices: 6 \n",
            "Enter number of edges: 7\n",
            "Enter source node: 0\n",
            "Enter the edges:\n",
            "0 1\n",
            "0 2\n",
            "1 3\n",
            "1 4\n",
            "2 5\n",
            "3 5\n",
            "4 5\n",
            "0 2 5 4 3 1 \n",
            "Execution Time: 4.43613 ms\n"
          ]
        }
      ]
    },
    {
      "cell_type": "code",
      "source": [
        "# Enter number of vertices: 6\n",
        "# Enter number of edges: 7\n",
        "# Enter source node: 0\n",
        "# Enter the edges:\n",
        "# 0 1\n",
        "# 0 2\n",
        "# 1 3\n",
        "# 1 4\n",
        "# 2 5\n",
        "# 3 5\n",
        "# 4 5\n",
        "# 0 2 5 4 3 1\n",
        "# Execution Time: 4.43613 ms"
      ],
      "metadata": {
        "id": "Ki6WLG68QwZu"
      },
      "execution_count": null,
      "outputs": []
    }
  ]
}