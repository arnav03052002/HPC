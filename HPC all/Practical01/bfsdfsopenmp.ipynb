{
  "nbformat": 4,
  "nbformat_minor": 0,
  "metadata": {
    "colab": {
      "provenance": []
    },
    "kernelspec": {
      "name": "python3",
      "display_name": "Python 3"
    },
    "language_info": {
      "name": "python"
    }
  },
  "cells": [
    {
      "cell_type": "code",
      "execution_count": null,
      "metadata": {
        "colab": {
          "base_uri": "https://localhost:8080/"
        },
        "id": "v0n9W3wMFyrg",
        "outputId": "7e6650b6-7dc6-4d45-ce15-e442323a4df9"
      },
      "outputs": [
        {
          "output_type": "stream",
          "name": "stdout",
          "text": [
            "Overwriting all.cpp\n"
          ]
        }
      ],
      "source": [
        "%%writefile all.cpp\n",
        "#include <iostream>\n",
        "#include <vector>\n",
        "#include <queue>\n",
        "#include <stack>\n",
        "#include <omp.h>\n",
        "#include <chrono>\n",
        "\n",
        "using namespace std;\n",
        "using namespace std::chrono;\n",
        "\n",
        "const int MAX = 100; // Maximum size for the graph\n",
        "\n",
        "vector<int> graph[MAX]; // Graph representation\n",
        "bool visited[MAX];      // Array to mark visited nodes\n",
        "\n",
        "// Breadth-First Search function\n",
        "void bfs(int start_node) {\n",
        "    queue<int> q;\n",
        "    q.push(start_node);\n",
        "    visited[start_node] = true;\n",
        "\n",
        "    while (!q.empty()) {\n",
        "        int current_node = q.front();\n",
        "        q.pop();\n",
        "        cout << current_node << \" \";\n",
        "\n",
        "        #pragma omp parallel for\n",
        "        for (int i = 0; i < graph[current_node].size(); i++) {\n",
        "            int adj_node = graph[current_node][i];\n",
        "            if (!visited[adj_node]) {\n",
        "                #pragma omp critical\n",
        "                {\n",
        "                    visited[adj_node] = true;\n",
        "                    q.push(adj_node);\n",
        "                }\n",
        "            }\n",
        "        }\n",
        "    }\n",
        "}\n",
        "\n",
        "// Depth-First Search function\n",
        "void dfs(int start_node) {\n",
        "    stack<int> s;\n",
        "    s.push(start_node);\n",
        "\n",
        "    while (!s.empty()) {\n",
        "        int current_node = s.top();\n",
        "        s.pop();\n",
        "        if (!visited[current_node]) {\n",
        "            visited[current_node] = true;\n",
        "            cout << current_node << \" \";\n",
        "\n",
        "            #pragma omp parallel for\n",
        "            for (int i = 0; i < graph[current_node].size(); i++) {\n",
        "                int adj_node = graph[current_node][i];\n",
        "                if (!visited[adj_node]) {\n",
        "                    #pragma omp critical\n",
        "                    {\n",
        "                        s.push(adj_node);\n",
        "                    }\n",
        "                }\n",
        "            }\n",
        "        }\n",
        "    }\n",
        "}\n",
        "\n",
        "int main() {\n",
        "    int n, m; // n: number of nodes, m: number of edges\n",
        "    cout << \"Enter the number of nodes and edges: \";\n",
        "    cin >> n >> m;\n",
        "\n",
        "    // Input edges\n",
        "    cout << \"Enter the edges (node pairs):\\n\";\n",
        "    for (int i = 0; i < m; i++) {\n",
        "        int u, v;\n",
        "        cin >> u >> v;\n",
        "        graph[u].push_back(v);\n",
        "        graph[v].push_back(u); // For undirected graph\n",
        "    }\n",
        "\n",
        "    // Initialize visited array\n",
        "    #pragma omp parallel for\n",
        "    for (int i = 0; i < n; i++) {\n",
        "        visited[i] = false;\n",
        "    }\n",
        "\n",
        "    // Get number of threads\n",
        "    int num_threads;\n",
        "    #pragma omp parallel\n",
        "    {\n",
        "        #pragma omp single\n",
        "        num_threads = omp_get_num_threads();\n",
        "    }\n",
        "    cout << \"Number of threads: \" << num_threads << endl;\n",
        "\n",
        "    // Measure BFS execution time\n",
        "    auto bfs_start = high_resolution_clock::now();\n",
        "    cout << \"Breadth-First Search (BFS): \";\n",
        "    bfs(0); // Start BFS from node 0\n",
        "    cout << endl;\n",
        "    auto bfs_stop = high_resolution_clock::now();\n",
        "    auto bfs_duration = duration_cast<microseconds>(bfs_stop - bfs_start);\n",
        "    cout << \"BFS Execution Time: \" << bfs_duration.count() << \" microseconds\" << endl;\n",
        "\n",
        "    // Reset visited array\n",
        "    #pragma omp parallel for\n",
        "    for (int i = 0; i < n; i++) {\n",
        "        visited[i] = false;\n",
        "    }\n",
        "\n",
        "    // Measure DFS execution time\n",
        "    auto dfs_start = high_resolution_clock::now();\n",
        "    cout << \"Depth-First Search (DFS): \";\n",
        "    dfs(0); // Start DFS from node 0\n",
        "    cout << endl;\n",
        "    auto dfs_stop = high_resolution_clock::now();\n",
        "    auto dfs_duration = duration_cast<microseconds>(dfs_stop - dfs_start);\n",
        "    cout << \"DFS Execution Time: \" << dfs_duration.count() << \" microseconds\" << endl;\n",
        "\n",
        "    return 0;\n",
        "}\n",
        "\n"
      ]
    },
    {
      "cell_type": "code",
      "source": [
        "!g++ -fopenmp all.cpp -o Myexe"
      ],
      "metadata": {
        "id": "4h7euYbSF0bo"
      },
      "execution_count": null,
      "outputs": []
    },
    {
      "cell_type": "code",
      "source": [
        "!./Myexe\n"
      ],
      "metadata": {
        "colab": {
          "base_uri": "https://localhost:8080/"
        },
        "id": "GQ35OracF9N5",
        "outputId": "579c1cb3-da63-436f-d854-0e668c914cbb"
      },
      "execution_count": null,
      "outputs": [
        {
          "output_type": "stream",
          "name": "stdout",
          "text": [
            "Enter the number of nodes and edges: 6 7\n",
            "Enter the edges (node pairs):\n",
            "0 1\n",
            "0 2\n",
            "1 3\n",
            "1 4\n",
            "2 5\n",
            "3 5\n",
            "4 5\n",
            "Number of threads: 2\n",
            "Breadth-First Search (BFS): 0 2 1 5 3 4 \n",
            "BFS Execution Time: 26 microseconds\n",
            "Depth-First Search (DFS): 0 1 3 5 2 4 \n",
            "DFS Execution Time: 10 microseconds\n"
          ]
        }
      ]
    },
    {
      "cell_type": "code",
      "source": [
        "# Enter the number of nodes and edges: 6 7\n",
        "# Enter the edges (node pairs):\n",
        "# 0 1\n",
        "# 0 2\n",
        "# 1 3\n",
        "# 1 4\n",
        "# 2 5\n",
        "# 3 5\n",
        "# 4 5\n",
        "# Number of threads: 2\n",
        "# Breadth-First Search (BFS): 0 2 1 5 3 4\n",
        "# BFS Execution Time: 26 microseconds\n",
        "# Depth-First Search (DFS): 0 1 3 5 2 4\n",
        "# DFS Execution Time: 10 microseconds"
      ],
      "metadata": {
        "id": "DGjjBV8PGDTc"
      },
      "execution_count": null,
      "outputs": []
    }
  ]
}