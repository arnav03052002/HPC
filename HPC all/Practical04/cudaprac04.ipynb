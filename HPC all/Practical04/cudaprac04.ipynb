{
  "nbformat": 4,
  "nbformat_minor": 0,
  "metadata": {
    "colab": {
      "provenance": [],
      "gpuType": "T4"
    },
    "kernelspec": {
      "name": "python3",
      "display_name": "Python 3"
    },
    "language_info": {
      "name": "python"
    },
    "accelerator": "GPU"
  },
  "cells": [
    {
      "cell_type": "code",
      "execution_count": 3,
      "metadata": {
        "id": "MTrvhNgXiWqp"
      },
      "outputs": [],
      "source": []
    },
    {
      "cell_type": "code",
      "execution_count": 1,
      "metadata": {
        "colab": {
          "base_uri": "https://localhost:8080/"
        },
        "id": "DR1mPxeTvjnG",
        "outputId": "779bb01a-088d-4fce-cf07-e8d426107a1e"
      },
      "outputs": [
        {
          "output_type": "stream",
          "name": "stdout",
          "text": [
            "nvcc: NVIDIA (R) Cuda compiler driver\n",
            "Copyright (c) 2005-2023 NVIDIA Corporation\n",
            "Built on Tue_Aug_15_22:02:13_PDT_2023\n",
            "Cuda compilation tools, release 12.2, V12.2.140\n",
            "Build cuda_12.2.r12.2/compiler.33191640_0\n"
          ]
        }
      ],
      "source": [
        "!nvcc --version"
      ]
    },
    {
      "cell_type": "code",
      "source": [
        "!pip install git+https://github.com/afnan47/cuda.git"
      ],
      "metadata": {
        "colab": {
          "base_uri": "https://localhost:8080/"
        },
        "id": "q10vpDFZv9YZ",
        "outputId": "ddfcca8b-1c54-4fcc-85bb-34bebcfcb457"
      },
      "execution_count": 2,
      "outputs": [
        {
          "output_type": "stream",
          "name": "stdout",
          "text": [
            "Collecting git+https://github.com/afnan47/cuda.git\n",
            "  Cloning https://github.com/afnan47/cuda.git to /tmp/pip-req-build-jmkafyxz\n",
            "  Running command git clone --filter=blob:none --quiet https://github.com/afnan47/cuda.git /tmp/pip-req-build-jmkafyxz\n",
            "  Resolved https://github.com/afnan47/cuda.git to commit aac710a35f52bb78ab34d2e52517237941399eff\n",
            "  Preparing metadata (setup.py) ... \u001b[?25l\u001b[?25hdone\n",
            "Building wheels for collected packages: NVCCPlugin\n",
            "  Building wheel for NVCCPlugin (setup.py) ... \u001b[?25l\u001b[?25hdone\n",
            "  Created wheel for NVCCPlugin: filename=NVCCPlugin-0.0.2-py3-none-any.whl size=4289 sha256=fc4e2e12ff5603e1cd149cd7b7fced3bb0c7817350754600528eb64d8cb27478\n",
            "  Stored in directory: /tmp/pip-ephem-wheel-cache-dvysnjvj/wheels/aa/f3/44/e10c1d226ec561d971fcd4b0463f6bff08602afa928a3e7bc7\n",
            "Successfully built NVCCPlugin\n",
            "Installing collected packages: NVCCPlugin\n",
            "Successfully installed NVCCPlugin-0.0.2\n"
          ]
        }
      ]
    },
    {
      "cell_type": "code",
      "source": [
        "%load_ext nvcc_plugin"
      ],
      "metadata": {
        "colab": {
          "base_uri": "https://localhost:8080/"
        },
        "id": "imFwNnCqwELF",
        "outputId": "fa07b976-d444-444f-fb5a-75fcc8f1daad"
      },
      "execution_count": 3,
      "outputs": [
        {
          "output_type": "stream",
          "name": "stdout",
          "text": [
            "created output directory at /content/src\n",
            "Out bin /content/result.out\n"
          ]
        }
      ]
    },
    {
      "cell_type": "code",
      "source": [
        " %%writefile add.cu\n",
        "#include <iostream>\n",
        "#include <ctime>   // Include <ctime> for time()\n",
        "using namespace std;\n",
        "\n",
        "__global__\n",
        "void add(int* A, int* B, int* C, int size)\n",
        "{\n",
        "    int tid = blockIdx.x * blockDim.x + threadIdx.x;\n",
        "    if (tid < size)\n",
        "    {\n",
        "        C[tid] = A[tid] + B[tid];\n",
        "    }\n",
        "}\n",
        "\n",
        "int main() {\n",
        "    int N;\n",
        "    cout << \"Enter the size of vectors: \";\n",
        "    cin >> N;\n",
        "\n",
        "    int* A, * B, * C;\n",
        "    int vectorSize = N;\n",
        "    size_t vectorBytes = vectorSize * sizeof(int);\n",
        "\n",
        "    // Allocate host memory\n",
        "    A = new int[vectorSize];\n",
        "    B = new int[vectorSize];\n",
        "    C = new int[vectorSize];\n",
        "\n",
        "    // Initialize host arrays\n",
        "    cout << \"Enter elements of vector A: \";\n",
        "    for (int i = 0; i < N; ++i) {\n",
        "        cin >> A[i];\n",
        "    }\n",
        "\n",
        "    cout << \"Enter elements of vector B: \";\n",
        "    for (int i = 0; i < N; ++i) {\n",
        "        cin >> B[i];\n",
        "    }\n",
        "\n",
        "    cout << \"Vector A: \";\n",
        "    for (int i = 0; i < N; ++i) {\n",
        "        cout << A[i] << \" \";\n",
        "    }\n",
        "    cout << endl;\n",
        "\n",
        "    cout << \"Vector B: \";\n",
        "    for (int i = 0; i < N; ++i) {\n",
        "        cout << B[i] << \" \";\n",
        "    }\n",
        "    cout << endl;\n",
        "\n",
        "    int* X, * Y, * Z;\n",
        "\n",
        "    // Allocate device memory\n",
        "    cudaMalloc(&X, vectorBytes);\n",
        "    cudaMalloc(&Y, vectorBytes);\n",
        "    cudaMalloc(&Z, vectorBytes);\n",
        "\n",
        "    // Check for CUDA memory allocation errors\n",
        "    if (X == nullptr || Y == nullptr || Z == nullptr) {\n",
        "        cerr << \"CUDA memory allocation failed\" << endl;\n",
        "        return 1;\n",
        "    }\n",
        "\n",
        "    // Copy data from host to device\n",
        "    cudaMemcpy(X, A, vectorBytes, cudaMemcpyHostToDevice);\n",
        "    cudaMemcpy(Y, B, vectorBytes, cudaMemcpyHostToDevice);\n",
        "\n",
        "    int threadsPerBlock = 256;\n",
        "    int blocksPerGrid = (N + threadsPerBlock - 1) / threadsPerBlock;\n",
        "\n",
        "    // Launch kernel\n",
        "    clock_t start_time = clock();\n",
        "    add<<<blocksPerGrid, threadsPerBlock>>>(X, Y, Z, N);\n",
        "    cudaDeviceSynchronize(); // Wait for all threads to finish\n",
        "    clock_t end_time = clock();\n",
        "\n",
        "    // Check for kernel launch errors\n",
        "    cudaError_t kernelLaunchError = cudaGetLastError();\n",
        "    if (kernelLaunchError != cudaSuccess) {\n",
        "        cerr << \"CUDA kernel launch failed: \" << cudaGetErrorString(kernelLaunchError);\n",
        "        return 1;\n",
        "    }\n",
        "\n",
        "    // Copy result from device to host\n",
        "    cudaMemcpy(C, Z, vectorBytes, cudaMemcpyDeviceToHost);\n",
        "\n",
        "    // Check for CUDA memcpy errors\n",
        "    cudaError_t memcpyError = cudaGetLastError();\n",
        "    if (memcpyError != cudaSuccess)\n",
        "    {\n",
        "        cerr << \"CUDA memcpy failed: \" << cudaGetErrorString(memcpyError) << endl;\n",
        "        return 1;\n",
        "    }\n",
        "\n",
        "    cout << \"Addition: \";\n",
        "    for (int i = 0; i < N; ++i) {\n",
        "        cout << C[i] << \" \";\n",
        "    }\n",
        "    cout << endl;\n",
        "\n",
        "    // Free device memory\n",
        "    cudaFree(X);\n",
        "    cudaFree(Y);\n",
        "    cudaFree(Z);\n",
        "\n",
        "    // Free host memory\n",
        "    delete[] A;\n",
        "    delete[] B;\n",
        "    delete[] C;\n",
        "\n",
        "    double time_taken = double(end_time - start_time) / CLOCKS_PER_SEC;\n",
        "    cout << \"Time taken: \" << time_taken << \" seconds\" << endl;\n",
        "    cout << \"Number of threads used: \" << blocksPerGrid * threadsPerBlock << endl;\n",
        "\n",
        "    return 0;\n",
        "}\n"
      ],
      "metadata": {
        "colab": {
          "base_uri": "https://localhost:8080/"
        },
        "id": "1c219AdYv1rN",
        "outputId": "ecf81320-503c-4992-e0c4-6a101ef99a30"
      },
      "execution_count": 4,
      "outputs": [
        {
          "output_type": "stream",
          "name": "stdout",
          "text": [
            "Writing add.cu\n"
          ]
        }
      ]
    },
    {
      "cell_type": "code",
      "source": [
        "!nvcc add.cu -o add"
      ],
      "metadata": {
        "id": "tnxOOYNq0uPG"
      },
      "execution_count": 5,
      "outputs": []
    },
    {
      "cell_type": "code",
      "source": [
        "!./add"
      ],
      "metadata": {
        "colab": {
          "base_uri": "https://localhost:8080/"
        },
        "id": "4JT_GYCv0y9P",
        "outputId": "4213930c-d7e5-4845-c488-3d563d2930c0"
      },
      "execution_count": 6,
      "outputs": [
        {
          "output_type": "stream",
          "name": "stdout",
          "text": [
            "Enter the size of vectors: 5\n",
            "Enter elements of vector A: 1\n",
            "2\n",
            "3\n",
            "4\n",
            "5\n",
            "Enter elements of vector B: 6 7 8 9 10\n",
            "Vector A: 1 2 3 4 5 \n",
            "Vector B: 6 7 8 9 10 \n",
            "Addition: 7 9 11 13 15 \n",
            "Time taken: 0.047703 seconds\n",
            "Number of threads used: 256\n"
          ]
        }
      ]
    },
    {
      "cell_type": "code",
      "source": [
        " %%writefile matrix.cu\n",
        "#include <iostream>\n",
        "#include <limits>\n",
        "#include <cuda.h>\n",
        "using namespace std;\n",
        "\n",
        "#define BLOCK_SIZE 2\n",
        "\n",
        "__global__ void gpuMM(float *A, float *B, float *C, int N)\n",
        "{\n",
        "    int row = blockIdx.y * blockDim.y + threadIdx.y;\n",
        "    int col = blockIdx.x * blockDim.x + threadIdx.x;\n",
        "    float sum = 0.f;\n",
        "    for (int n = 0; n < N; ++n)\n",
        "        sum += A[row * N + n] * B[n * N + col];\n",
        "    C[row * N + col] = sum;\n",
        "}\n",
        "\n",
        "int main(int argc, char *argv[])\n",
        "{\n",
        "    int N;\n",
        "    cout << \"Enter the size of the matrix: \";\n",
        "    cin >> N;\n",
        "    N *= 2; // Multiply by 2 to make the matrix size equal to user input * BLOCK_SIZE\n",
        "    cout << \"\\nExecuting Matrix Multiplication\" << endl;\n",
        "    cout << \"Matrix size: \" << N << \"x\" << N << endl;\n",
        "\n",
        "    // Allocate memory on the host\n",
        "    float *hA, *hB, *hC;\n",
        "    hA = new float[N * N];\n",
        "    hB = new float[N * N];\n",
        "    hC = new float[N * N];\n",
        "\n",
        "    // Initialize matrices on the host with user input\n",
        "    cout << \"Enter elements of matrix A: \";\n",
        "    for (int j = 0; j < N; j++)\n",
        "    {\n",
        "        for (int i = 0; i < N; i++)\n",
        "        {\n",
        "            cin >> hA[j * N + i];\n",
        "        }\n",
        "    }\n",
        "    cin.ignore(numeric_limits<streamsize>::max(), '\\n'); // Clear input buffer\n",
        "\n",
        "    cout << \"Enter elements of matrix B: \";\n",
        "    for (int j = 0; j < N; j++)\n",
        "    {\n",
        "        for (int i = 0; i < N; i++)\n",
        "        {\n",
        "            cin >> hB[j * N + i];\n",
        "        }\n",
        "    }\n",
        "    cin.ignore(numeric_limits<streamsize>::max(), '\\n'); // Clear input buffer\n",
        "\n",
        "    // Allocate memory on the device\n",
        "    int size = N * N * sizeof(float);\n",
        "    float *dA, *dB, *dC;\n",
        "    cudaMalloc(&dA, size);\n",
        "    cudaMalloc(&dB, size);\n",
        "    cudaMalloc(&dC, size);\n",
        "    dim3 threadBlock(BLOCK_SIZE, BLOCK_SIZE);\n",
        "    dim3 grid(N / BLOCK_SIZE, N / BLOCK_SIZE);\n",
        "\n",
        "    // Copy matrices from the host to device\n",
        "    cudaMemcpy(dA, hA, size, cudaMemcpyHostToDevice);\n",
        "    cudaMemcpy(dB, hB, size, cudaMemcpyHostToDevice);\n",
        "\n",
        "    // Execute the matrix multiplication kernel\n",
        "    gpuMM<<<grid, threadBlock>>>(dA, dB, dC, N);\n",
        "\n",
        "    // Copy the GPU result back to CPU\n",
        "    cudaMemcpy(hC, dC, size, cudaMemcpyDeviceToHost);\n",
        "\n",
        "    // Display the result\n",
        "    cout << \"\\nResultant matrix:\\n\";\n",
        "    for (int row = 0; row < N; row++)\n",
        "    {\n",
        "        for (int col = 0; col < N; col++)\n",
        "        {\n",
        "            cout << hC[row * N + col] << \" \";\n",
        "        }\n",
        "        cout << endl;\n",
        "    }\n",
        "\n",
        "    // Free device memory\n",
        "    cudaFree(dA);\n",
        "    cudaFree(dB);\n",
        "    cudaFree(dC);\n",
        "\n",
        "    // Free host memory\n",
        "    delete[] hA;\n",
        "    delete[] hB;\n",
        "    delete[] hC;\n",
        "\n",
        "    cout << \"Finished.\" << endl;\n",
        "    return 0;\n",
        "}\n"
      ],
      "metadata": {
        "id": "5FSC4qqXioeX",
        "colab": {
          "base_uri": "https://localhost:8080/"
        },
        "outputId": "477674c0-673d-4b8e-b2c9-139c34c2eea4"
      },
      "execution_count": 7,
      "outputs": [
        {
          "output_type": "stream",
          "name": "stdout",
          "text": [
            "Writing matrix.cu\n"
          ]
        }
      ]
    },
    {
      "cell_type": "code",
      "source": [
        "!nvcc matrix.cu -o matrix"
      ],
      "metadata": {
        "id": "Ed1b6Mpkk4b8"
      },
      "execution_count": 8,
      "outputs": []
    },
    {
      "cell_type": "code",
      "source": [
        "!./matrix"
      ],
      "metadata": {
        "colab": {
          "base_uri": "https://localhost:8080/"
        },
        "id": "bWD3h1ufk7Dp",
        "outputId": "0ba21f39-9b16-4064-f1d1-404a12efccb6"
      },
      "execution_count": 9,
      "outputs": [
        {
          "output_type": "stream",
          "name": "stdout",
          "text": [
            "Enter the size of the matrix: 1\n",
            "\n",
            "Executing Matrix Multiplication\n",
            "Matrix size: 2x2\n",
            "Enter elements of matrix A: 1\n",
            "2\n",
            "3\n",
            "4\n",
            "Enter elements of matrix B: 5\n",
            "6\n",
            "7\n",
            "8\n",
            "\n",
            "Resultant matrix:\n",
            "19 22 \n",
            "43 50 \n",
            "Finished.\n"
          ]
        }
      ]
    },
    {
      "cell_type": "code",
      "source": [],
      "metadata": {
        "id": "O-FTtBFfk-JU"
      },
      "execution_count": null,
      "outputs": []
    }
  ]
}